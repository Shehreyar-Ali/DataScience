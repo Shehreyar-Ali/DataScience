{
 "cells": [
  {
   "cell_type": "markdown",
   "metadata": {},
   "source": [
    "### Shehreyar Ali\n",
    "\n",
    "### sa03576\n",
    "\n",
    "### sa03576@st.habib.edu.pk"
   ]
  },
  {
   "cell_type": "markdown",
   "metadata": {},
   "source": [
    "### Final Project: College Scorecard Data\n",
    "\n",
    "In this project we will be working with college and university data from the website data.gov from the following link\n",
    "\n",
    "https://catalog.data.gov/dataset/college-scorecard/resource/2a7f670e-0799-436a-9394-df0a9b3ba7c5"
   ]
  },
  {
   "cell_type": "markdown",
   "metadata": {},
   "source": [
    "### 1. First we are going to load the dataset and the required libraries"
   ]
  },
  {
   "cell_type": "code",
   "execution_count": 122,
   "metadata": {
    "scrolled": false
   },
   "outputs": [
    {
     "name": "stdout",
     "output_type": "stream",
     "text": [
      "<class 'pandas.core.frame.DataFrame'>\n",
      "RangeIndex: 7414 entries, 0 to 7413\n",
      "Columns: 1977 entries, UNITID to OMENRUP_PARTTIME_POOLED_SUPP\n",
      "dtypes: float64(813), int64(10), object(1154)\n",
      "memory usage: 111.8+ MB\n"
     ]
    },
    {
     "data": {
      "text/html": [
       "<div>\n",
       "<style scoped>\n",
       "    .dataframe tbody tr th:only-of-type {\n",
       "        vertical-align: middle;\n",
       "    }\n",
       "\n",
       "    .dataframe tbody tr th {\n",
       "        vertical-align: top;\n",
       "    }\n",
       "\n",
       "    .dataframe thead th {\n",
       "        text-align: right;\n",
       "    }\n",
       "</style>\n",
       "<table border=\"1\" class=\"dataframe\">\n",
       "  <thead>\n",
       "    <tr style=\"text-align: right;\">\n",
       "      <th></th>\n",
       "      <th>UNITID</th>\n",
       "      <th>OPEID6</th>\n",
       "      <th>ACCREDAGENCY</th>\n",
       "      <th>INSTURL</th>\n",
       "      <th>NPCURL</th>\n",
       "      <th>SCH_DEG</th>\n",
       "      <th>HCM2</th>\n",
       "      <th>MAIN</th>\n",
       "      <th>NUMBRANCH</th>\n",
       "      <th>PREDDEG</th>\n",
       "      <th>...</th>\n",
       "      <th>OMAWDP8_NOTFIRSTTIME_POOLED_SUPP</th>\n",
       "      <th>OMENRUP_NOTFIRSTTIME_POOLED_SUPP</th>\n",
       "      <th>OMENRYP_FULLTIME_POOLED_SUPP</th>\n",
       "      <th>OMENRAP_FULLTIME_POOLED_SUPP</th>\n",
       "      <th>OMAWDP8_FULLTIME_POOLED_SUPP</th>\n",
       "      <th>OMENRUP_FULLTIME_POOLED_SUPP</th>\n",
       "      <th>OMENRYP_PARTTIME_POOLED_SUPP</th>\n",
       "      <th>OMENRAP_PARTTIME_POOLED_SUPP</th>\n",
       "      <th>OMAWDP8_PARTTIME_POOLED_SUPP</th>\n",
       "      <th>OMENRUP_PARTTIME_POOLED_SUPP</th>\n",
       "    </tr>\n",
       "  </thead>\n",
       "  <tbody>\n",
       "    <tr>\n",
       "      <th>count</th>\n",
       "      <td>7.414000e+03</td>\n",
       "      <td>7414.000000</td>\n",
       "      <td>0.0</td>\n",
       "      <td>0.0</td>\n",
       "      <td>0.0</td>\n",
       "      <td>7289.000000</td>\n",
       "      <td>0.0</td>\n",
       "      <td>7414.000000</td>\n",
       "      <td>7414.000000</td>\n",
       "      <td>7414.000000</td>\n",
       "      <td>...</td>\n",
       "      <td>0.0</td>\n",
       "      <td>0.0</td>\n",
       "      <td>0.0</td>\n",
       "      <td>0.0</td>\n",
       "      <td>0.0</td>\n",
       "      <td>0.0</td>\n",
       "      <td>0.0</td>\n",
       "      <td>0.0</td>\n",
       "      <td>0.0</td>\n",
       "      <td>0.0</td>\n",
       "    </tr>\n",
       "    <tr>\n",
       "      <th>mean</th>\n",
       "      <td>1.170640e+06</td>\n",
       "      <td>15227.400998</td>\n",
       "      <td>NaN</td>\n",
       "      <td>NaN</td>\n",
       "      <td>NaN</td>\n",
       "      <td>1.931541</td>\n",
       "      <td>NaN</td>\n",
       "      <td>0.772458</td>\n",
       "      <td>6.160372</td>\n",
       "      <td>1.850283</td>\n",
       "      <td>...</td>\n",
       "      <td>NaN</td>\n",
       "      <td>NaN</td>\n",
       "      <td>NaN</td>\n",
       "      <td>NaN</td>\n",
       "      <td>NaN</td>\n",
       "      <td>NaN</td>\n",
       "      <td>NaN</td>\n",
       "      <td>NaN</td>\n",
       "      <td>NaN</td>\n",
       "      <td>NaN</td>\n",
       "    </tr>\n",
       "    <tr>\n",
       "      <th>std</th>\n",
       "      <td>5.412116e+06</td>\n",
       "      <td>12966.137681</td>\n",
       "      <td>NaN</td>\n",
       "      <td>NaN</td>\n",
       "      <td>NaN</td>\n",
       "      <td>0.876799</td>\n",
       "      <td>NaN</td>\n",
       "      <td>0.419274</td>\n",
       "      <td>19.131706</td>\n",
       "      <td>1.002076</td>\n",
       "      <td>...</td>\n",
       "      <td>NaN</td>\n",
       "      <td>NaN</td>\n",
       "      <td>NaN</td>\n",
       "      <td>NaN</td>\n",
       "      <td>NaN</td>\n",
       "      <td>NaN</td>\n",
       "      <td>NaN</td>\n",
       "      <td>NaN</td>\n",
       "      <td>NaN</td>\n",
       "      <td>NaN</td>\n",
       "    </tr>\n",
       "    <tr>\n",
       "      <th>min</th>\n",
       "      <td>1.006540e+05</td>\n",
       "      <td>1002.000000</td>\n",
       "      <td>NaN</td>\n",
       "      <td>NaN</td>\n",
       "      <td>NaN</td>\n",
       "      <td>1.000000</td>\n",
       "      <td>NaN</td>\n",
       "      <td>0.000000</td>\n",
       "      <td>1.000000</td>\n",
       "      <td>0.000000</td>\n",
       "      <td>...</td>\n",
       "      <td>NaN</td>\n",
       "      <td>NaN</td>\n",
       "      <td>NaN</td>\n",
       "      <td>NaN</td>\n",
       "      <td>NaN</td>\n",
       "      <td>NaN</td>\n",
       "      <td>NaN</td>\n",
       "      <td>NaN</td>\n",
       "      <td>NaN</td>\n",
       "      <td>NaN</td>\n",
       "    </tr>\n",
       "    <tr>\n",
       "      <th>25%</th>\n",
       "      <td>1.680610e+05</td>\n",
       "      <td>3329.000000</td>\n",
       "      <td>NaN</td>\n",
       "      <td>NaN</td>\n",
       "      <td>NaN</td>\n",
       "      <td>1.000000</td>\n",
       "      <td>NaN</td>\n",
       "      <td>1.000000</td>\n",
       "      <td>1.000000</td>\n",
       "      <td>1.000000</td>\n",
       "      <td>...</td>\n",
       "      <td>NaN</td>\n",
       "      <td>NaN</td>\n",
       "      <td>NaN</td>\n",
       "      <td>NaN</td>\n",
       "      <td>NaN</td>\n",
       "      <td>NaN</td>\n",
       "      <td>NaN</td>\n",
       "      <td>NaN</td>\n",
       "      <td>NaN</td>\n",
       "      <td>NaN</td>\n",
       "    </tr>\n",
       "    <tr>\n",
       "      <th>50%</th>\n",
       "      <td>2.194620e+05</td>\n",
       "      <td>10141.000000</td>\n",
       "      <td>NaN</td>\n",
       "      <td>NaN</td>\n",
       "      <td>NaN</td>\n",
       "      <td>2.000000</td>\n",
       "      <td>NaN</td>\n",
       "      <td>1.000000</td>\n",
       "      <td>1.000000</td>\n",
       "      <td>2.000000</td>\n",
       "      <td>...</td>\n",
       "      <td>NaN</td>\n",
       "      <td>NaN</td>\n",
       "      <td>NaN</td>\n",
       "      <td>NaN</td>\n",
       "      <td>NaN</td>\n",
       "      <td>NaN</td>\n",
       "      <td>NaN</td>\n",
       "      <td>NaN</td>\n",
       "      <td>NaN</td>\n",
       "      <td>NaN</td>\n",
       "    </tr>\n",
       "    <tr>\n",
       "      <th>75%</th>\n",
       "      <td>4.349438e+05</td>\n",
       "      <td>25234.750000</td>\n",
       "      <td>NaN</td>\n",
       "      <td>NaN</td>\n",
       "      <td>NaN</td>\n",
       "      <td>3.000000</td>\n",
       "      <td>NaN</td>\n",
       "      <td>1.000000</td>\n",
       "      <td>2.000000</td>\n",
       "      <td>3.000000</td>\n",
       "      <td>...</td>\n",
       "      <td>NaN</td>\n",
       "      <td>NaN</td>\n",
       "      <td>NaN</td>\n",
       "      <td>NaN</td>\n",
       "      <td>NaN</td>\n",
       "      <td>NaN</td>\n",
       "      <td>NaN</td>\n",
       "      <td>NaN</td>\n",
       "      <td>NaN</td>\n",
       "      <td>NaN</td>\n",
       "    </tr>\n",
       "    <tr>\n",
       "      <th>max</th>\n",
       "      <td>4.589730e+07</td>\n",
       "      <td>41756.000000</td>\n",
       "      <td>NaN</td>\n",
       "      <td>NaN</td>\n",
       "      <td>NaN</td>\n",
       "      <td>3.000000</td>\n",
       "      <td>NaN</td>\n",
       "      <td>1.000000</td>\n",
       "      <td>119.000000</td>\n",
       "      <td>4.000000</td>\n",
       "      <td>...</td>\n",
       "      <td>NaN</td>\n",
       "      <td>NaN</td>\n",
       "      <td>NaN</td>\n",
       "      <td>NaN</td>\n",
       "      <td>NaN</td>\n",
       "      <td>NaN</td>\n",
       "      <td>NaN</td>\n",
       "      <td>NaN</td>\n",
       "      <td>NaN</td>\n",
       "      <td>NaN</td>\n",
       "    </tr>\n",
       "  </tbody>\n",
       "</table>\n",
       "<p>8 rows × 823 columns</p>\n",
       "</div>"
      ],
      "text/plain": [
       "             UNITID        OPEID6  ACCREDAGENCY  INSTURL  NPCURL      SCH_DEG  \\\n",
       "count  7.414000e+03   7414.000000           0.0      0.0     0.0  7289.000000   \n",
       "mean   1.170640e+06  15227.400998           NaN      NaN     NaN     1.931541   \n",
       "std    5.412116e+06  12966.137681           NaN      NaN     NaN     0.876799   \n",
       "min    1.006540e+05   1002.000000           NaN      NaN     NaN     1.000000   \n",
       "25%    1.680610e+05   3329.000000           NaN      NaN     NaN     1.000000   \n",
       "50%    2.194620e+05  10141.000000           NaN      NaN     NaN     2.000000   \n",
       "75%    4.349438e+05  25234.750000           NaN      NaN     NaN     3.000000   \n",
       "max    4.589730e+07  41756.000000           NaN      NaN     NaN     3.000000   \n",
       "\n",
       "       HCM2         MAIN    NUMBRANCH      PREDDEG  ...  \\\n",
       "count   0.0  7414.000000  7414.000000  7414.000000  ...   \n",
       "mean    NaN     0.772458     6.160372     1.850283  ...   \n",
       "std     NaN     0.419274    19.131706     1.002076  ...   \n",
       "min     NaN     0.000000     1.000000     0.000000  ...   \n",
       "25%     NaN     1.000000     1.000000     1.000000  ...   \n",
       "50%     NaN     1.000000     1.000000     2.000000  ...   \n",
       "75%     NaN     1.000000     2.000000     3.000000  ...   \n",
       "max     NaN     1.000000   119.000000     4.000000  ...   \n",
       "\n",
       "       OMAWDP8_NOTFIRSTTIME_POOLED_SUPP  OMENRUP_NOTFIRSTTIME_POOLED_SUPP  \\\n",
       "count                               0.0                               0.0   \n",
       "mean                                NaN                               NaN   \n",
       "std                                 NaN                               NaN   \n",
       "min                                 NaN                               NaN   \n",
       "25%                                 NaN                               NaN   \n",
       "50%                                 NaN                               NaN   \n",
       "75%                                 NaN                               NaN   \n",
       "max                                 NaN                               NaN   \n",
       "\n",
       "       OMENRYP_FULLTIME_POOLED_SUPP  OMENRAP_FULLTIME_POOLED_SUPP  \\\n",
       "count                           0.0                           0.0   \n",
       "mean                            NaN                           NaN   \n",
       "std                             NaN                           NaN   \n",
       "min                             NaN                           NaN   \n",
       "25%                             NaN                           NaN   \n",
       "50%                             NaN                           NaN   \n",
       "75%                             NaN                           NaN   \n",
       "max                             NaN                           NaN   \n",
       "\n",
       "       OMAWDP8_FULLTIME_POOLED_SUPP  OMENRUP_FULLTIME_POOLED_SUPP  \\\n",
       "count                           0.0                           0.0   \n",
       "mean                            NaN                           NaN   \n",
       "std                             NaN                           NaN   \n",
       "min                             NaN                           NaN   \n",
       "25%                             NaN                           NaN   \n",
       "50%                             NaN                           NaN   \n",
       "75%                             NaN                           NaN   \n",
       "max                             NaN                           NaN   \n",
       "\n",
       "       OMENRYP_PARTTIME_POOLED_SUPP  OMENRAP_PARTTIME_POOLED_SUPP  \\\n",
       "count                           0.0                           0.0   \n",
       "mean                            NaN                           NaN   \n",
       "std                             NaN                           NaN   \n",
       "min                             NaN                           NaN   \n",
       "25%                             NaN                           NaN   \n",
       "50%                             NaN                           NaN   \n",
       "75%                             NaN                           NaN   \n",
       "max                             NaN                           NaN   \n",
       "\n",
       "       OMAWDP8_PARTTIME_POOLED_SUPP  OMENRUP_PARTTIME_POOLED_SUPP  \n",
       "count                           0.0                           0.0  \n",
       "mean                            NaN                           NaN  \n",
       "std                             NaN                           NaN  \n",
       "min                             NaN                           NaN  \n",
       "25%                             NaN                           NaN  \n",
       "50%                             NaN                           NaN  \n",
       "75%                             NaN                           NaN  \n",
       "max                             NaN                           NaN  \n",
       "\n",
       "[8 rows x 823 columns]"
      ]
     },
     "execution_count": 122,
     "metadata": {},
     "output_type": "execute_result"
    }
   ],
   "source": [
    "import pandas as pd\n",
    "import numpy as np\n",
    "import matplotlib.pyplot as plt\n",
    "import seaborn as sb\n",
    "from sklearn.linear_model import LinearRegression\n",
    "from scipy import stats\n",
    "\n",
    "collegeDataRaw = pd.read_csv('MERGED2010_11_PP.csv', low_memory = False)\n",
    "cDR = collegeDataRaw\n",
    "cDR.info()\n",
    "cDR.head()\n",
    "cDR.describe()"
   ]
  },
  {
   "cell_type": "markdown",
   "metadata": {},
   "source": [
    "### 2. Selecting the Columns\n"
   ]
  },
  {
   "cell_type": "code",
   "execution_count": 123,
   "metadata": {
    "scrolled": true
   },
   "outputs": [],
   "source": [
    "cols = ['UNITID', 'INSTNM', 'CITY', 'STABBR', 'NUMBRANCH', 'HIGHDEG', 'PREDDEG', 'CONTROL', 'TUITFTE', 'AVGFACSAL', 'ADM_RATE_ALL', 'SAT_AVG','SATVR25', 'SATVR75', 'SATMT25', 'SATMT75', 'ACTCM25', 'ACTCM75', 'UGDS', 'UG25ABV', 'PCTFLOAN', 'CDR3']\n",
    "\n",
    "cDC = cDR[cols]\n",
    "\n",
    "cDC.shape\n",
    "\n",
    "collegeDataClean = cDC.copy()"
   ]
  },
  {
   "cell_type": "markdown",
   "metadata": {},
   "source": [
    "### 3. Cleaning"
   ]
  },
  {
   "cell_type": "code",
   "execution_count": 124,
   "metadata": {},
   "outputs": [
    {
     "name": "stdout",
     "output_type": "stream",
     "text": [
      "66769\n"
     ]
    }
   ],
   "source": [
    "print(collegeDataClean.isnull().values.sum())"
   ]
  },
  {
   "cell_type": "code",
   "execution_count": 125,
   "metadata": {},
   "outputs": [
    {
     "name": "stdout",
     "output_type": "stream",
     "text": [
      "14828\n"
     ]
    }
   ],
   "source": [
    "collegeDataClean.fillna(collegeDataClean.mean(), inplace = True)\n",
    "print(collegeDataClean.isnull().values.sum())"
   ]
  },
  {
   "cell_type": "code",
   "execution_count": 126,
   "metadata": {},
   "outputs": [
    {
     "name": "stdout",
     "output_type": "stream",
     "text": [
      "<bound method DataFrame.count of         UNITID                                INSTNM              CITY STABBR  \\\n",
      "0       100654              Alabama A & M University            Normal     AL   \n",
      "1       100663   University of Alabama at Birmingham        Birmingham     AL   \n",
      "2       100690                    Amridge University        Montgomery     AL   \n",
      "3       100706   University of Alabama in Huntsville        Huntsville     AL   \n",
      "4       100724              Alabama State University        Montgomery     AL   \n",
      "...        ...                                   ...               ...    ...   \n",
      "7409  45896402  Strayer University-Charleston Campus  North Charleston     SC   \n",
      "7410  45897301             Strayer University-Irving            Irving     TX   \n",
      "7411  45897302               Strayer University-Katy           Houston     TX   \n",
      "7412  45897303  Strayer University-Northwest Houston           Houston     TX   \n",
      "7413  45897304              Strayer University-Plano             Plano     TX   \n",
      "\n",
      "      NUMBRANCH  HIGHDEG  PREDDEG  CONTROL       TUITFTE    AVGFACSAL  ...  \\\n",
      "0             1        4        3        1   6746.000000  6603.000000  ...   \n",
      "1             1        4        3        1   6343.000000  9000.000000  ...   \n",
      "2             1        4        3        2  11499.000000  3400.000000  ...   \n",
      "3             1        4        3        1   6548.000000  8154.000000  ...   \n",
      "4             1        4        3        1   6937.000000  6671.000000  ...   \n",
      "...         ...      ...      ...      ...           ...          ...  ...   \n",
      "7409         85        0        0        3   8591.629959  5761.761778  ...   \n",
      "7410         85        0        0        3   8591.629959  5761.761778  ...   \n",
      "7411         85        0        0        3   8591.629959  5761.761778  ...   \n",
      "7412         85        0        0        3   8591.629959  5761.761778  ...   \n",
      "7413         85        0        0        3   8591.629959  5761.761778  ...   \n",
      "\n",
      "         SATVR25     SATVR75     SATMT25     SATMT75    ACTCM25   ACTCM75  \\\n",
      "0     380.000000  470.000000  370.000000  470.000000  16.000000  19.00000   \n",
      "1     490.000000  680.000000  510.000000  690.000000  21.000000  27.00000   \n",
      "2     470.849961  581.918303  477.351435  587.874321  20.201352  25.25169   \n",
      "3     510.000000  630.000000  510.000000  655.000000  22.000000  29.00000   \n",
      "4     360.000000  440.000000  320.000000  420.000000  13.000000  17.00000   \n",
      "...          ...         ...         ...         ...        ...       ...   \n",
      "7409  470.849961  581.918303  477.351435  587.874321  20.201352  25.25169   \n",
      "7410  470.849961  581.918303  477.351435  587.874321  20.201352  25.25169   \n",
      "7411  470.849961  581.918303  477.351435  587.874321  20.201352  25.25169   \n",
      "7412  470.849961  581.918303  477.351435  587.874321  20.201352  25.25169   \n",
      "7413  470.849961  581.918303  477.351435  587.874321  20.201352  25.25169   \n",
      "\n",
      "              UGDS  UG25ABV  PCTFLOAN  CDR3  \n",
      "0      4930.000000      NaN  0.741100   NaN  \n",
      "1     10661.000000      NaN  0.491800   NaN  \n",
      "2       370.000000      NaN  0.750000   NaN  \n",
      "3      5828.000000      NaN  0.463300   NaN  \n",
      "4      4882.000000      NaN  0.860100   NaN  \n",
      "...            ...      ...       ...   ...  \n",
      "7409   2507.803176      NaN  0.524883   NaN  \n",
      "7410   2507.803176      NaN  0.524883   NaN  \n",
      "7411   2507.803176      NaN  0.524883   NaN  \n",
      "7412   2507.803176      NaN  0.524883   NaN  \n",
      "7413   2507.803176      NaN  0.524883   NaN  \n",
      "\n",
      "[7414 rows x 22 columns]>\n"
     ]
    }
   ],
   "source": [
    "print(collegeDataClean.count)"
   ]
  },
  {
   "cell_type": "code",
   "execution_count": 127,
   "metadata": {},
   "outputs": [],
   "source": [
    "collegeDataClean['HIGHDEG'].replace(to_replace = {0 : np.nan,\n",
    "1 : 'Certificate', 2 : \"Associate's\", 3 : \"Bachelor's\", 4 : \"Graduate's\"}, \n",
    "inplace = True)\n",
    "\n",
    "collegeDataClean['PREDDEG'].replace(to_replace = {0: np.nan, \n",
    "1:'Certificate', 2:\"Associate's\", 3:\"Bachelor's\", 4:\"Graduate's\"}, \n",
    "inplace = True)"
   ]
  },
  {
   "cell_type": "code",
   "execution_count": 128,
   "metadata": {},
   "outputs": [
    {
     "data": {
      "text/plain": [
       "(Certificate    2540\n",
       " Graduate's     1964\n",
       " Associate's    1718\n",
       " Bachelor's      810\n",
       " Name: HIGHDEG, dtype: int64, Certificate    3290\n",
       " Bachelor's     2088\n",
       " Associate's    1478\n",
       " Graduate's      302\n",
       " Name: PREDDEG, dtype: int64)"
      ]
     },
     "execution_count": 128,
     "metadata": {},
     "output_type": "execute_result"
    }
   ],
   "source": [
    "collegeDataClean['HIGHDEG'] = pd.Categorical(collegeDataClean.HIGHDEG, \n",
    "categories = ['Certificate', \"Associate's\", \"Bachelor's\", \"Graduate's\"],\n",
    "ordered = True)\n",
    "\n",
    "\n",
    "collegeDataClean['PREDDEG'] = pd.Categorical(collegeDataClean.PREDDEG, \n",
    "categories = ['Certificate', \"Associate's\", \"Bachelor's\", \"Graduate's\"],\n",
    "ordered = True)\n",
    "\n",
    "collegeDataClean.HIGHDEG.value_counts(), collegeDataClean.PREDDEG.value_counts()"
   ]
  },
  {
   "cell_type": "code",
   "execution_count": 129,
   "metadata": {},
   "outputs": [
    {
     "data": {
      "text/plain": [
       "Private For-Profit    3422\n",
       "Public                2077\n",
       "Private Nonprofit     1915\n",
       "Name: CONTROL, dtype: int64"
      ]
     },
     "execution_count": 129,
     "metadata": {},
     "output_type": "execute_result"
    }
   ],
   "source": [
    "collegeDataClean.CONTROL.replace(to_replace = {1: 'Public', \n",
    "2: 'Private Nonprofit', \n",
    "3: 'Private For-Profit'}, inplace = True)\n",
    "\n",
    "\n",
    "collegeDataClean['CONTROL'] = pd.Categorical(collegeDataClean.CONTROL, categories = ['Public', 'Private Nonprofit', \n",
    "'Private For-Profit'],\n",
    "ordered = False)\n",
    "\n",
    "collegeDataClean.CONTROL.value_counts()"
   ]
  },
  {
   "cell_type": "code",
   "execution_count": 130,
   "metadata": {},
   "outputs": [
    {
     "data": {
      "text/plain": [
       "CategoricalDtype(categories=['AL', 'IL', 'AK', 'WA', 'AZ', 'NM', 'AR', 'CA', 'MN', 'CO',\n",
       "                  'CT', 'NY', 'DE', 'DC', 'VA', 'FL', 'GA', 'HI', 'ID', 'IN',\n",
       "                  'TN', 'MI', 'IA', 'KS', 'MO', 'KY', 'LA', 'ME', 'MD', 'MA',\n",
       "                  'MS', 'MT', 'NE', 'NV', 'NH', 'NJ', 'NC', 'ND', 'OH', 'WV',\n",
       "                  'OK', 'OR', 'PA', 'RI', 'SC', 'SD', 'TX', 'UT', 'VT', 'WI',\n",
       "                  'WY', 'AS', 'GU', 'MP', 'PR', 'FM', 'PW', 'VI', 'MH'],\n",
       "                 ordered=False)"
      ]
     },
     "execution_count": 130,
     "metadata": {},
     "output_type": "execute_result"
    }
   ],
   "source": [
    "l = list(collegeDataClean.STABBR.unique())\n",
    "\n",
    "collegeDataClean['STABBR'] = pd.Categorical(collegeDataClean.STABBR, \n",
    "categories = l, ordered = False)\n",
    "\n",
    "collegeDataClean.STABBR.dtype"
   ]
  },
  {
   "cell_type": "markdown",
   "metadata": {},
   "source": [
    "### 4. Analysis"
   ]
  },
  {
   "cell_type": "markdown",
   "metadata": {},
   "source": [
    "##### Q. First we are going too see the coorelation between admission rates and average SAT score"
   ]
  },
  {
   "cell_type": "code",
   "execution_count": 131,
   "metadata": {},
   "outputs": [
    {
     "data": {
      "text/plain": [
       "Text(0.5, 0, 'Admission Rates ')"
      ]
     },
     "execution_count": 131,
     "metadata": {},
     "output_type": "execute_result"
    },
    {
     "data": {
      "image/png": "[encoded data removed]",
      "text/plain": [
       "<Figure size 432x288 with 1 Axes>"
      ]
     },
     "metadata": {
      "needs_background": "light"
     },
     "output_type": "display_data"
    }
   ],
   "source": [
    "a = collegeDataClean.plot(kind = \"scatter\", x = \"ADM_RATE_ALL\", y = \"SAT_AVG\")\n",
    "\n",
    "a.set_ylim((500, 1600 ))\n",
    "\n",
    "a.set_ylabel(\"Average SAT score\")\n",
    "a.set_xlabel(\"Admission Rates \")"
   ]
  },
  {
   "cell_type": "markdown",
   "metadata": {},
   "source": [
    "From the graph above we can see a trend of where admissions are between 0.6 and 1.0 that, that is where majority of the values for the SAT average lies. We do also see that the highest score belongs on the left hand side of the graph, indicating lower admission acceptance rates and the lowest average score is found on the right most hand side indicating higher admission acceptance rates\n"
   ]
  },
  {
   "cell_type": "markdown",
   "metadata": {},
   "source": [
    "##### Q. Next we shall look at the coorelation between admission rates and  average faculty salary"
   ]
  },
  {
   "cell_type": "code",
   "execution_count": 132,
   "metadata": {},
   "outputs": [
    {
     "data": {
      "text/plain": [
       "Text(0.5, 0, 'Admission Rates ')"
      ]
     },
     "execution_count": 132,
     "metadata": {},
     "output_type": "execute_result"
    },
    {
     "data": {
      "image/png": "[encoded data removed]",
      "text/plain": [
       "<Figure size 432x288 with 1 Axes>"
      ]
     },
     "metadata": {
      "needs_background": "light"
     },
     "output_type": "display_data"
    }
   ],
   "source": [
    "a = collegeDataClean.plot(kind = \"scatter\", x = \"ADM_RATE_ALL\", y = \"AVGFACSAL\")\n",
    "\n",
    "a.set_ylim((500, collegeDataClean.AVGFACSAL.max() + 1 ))\n",
    "\n",
    "a.set_ylabel(\"Average Faculty Salaries\")\n",
    "a.set_xlabel(\"Admission Rates \")"
   ]
  },
  {
   "cell_type": "markdown",
   "metadata": {},
   "source": [
    "Again much like the graph  above this one we can see some similarities, i.e. the highest average, in this case of salaries is found in the schools with the lowest admission acceptance rate and the lowest average salaries are found in the schools with the higher admission acceptance "
   ]
  },
  {
   "cell_type": "markdown",
   "metadata": {},
   "source": [
    "##### Q. Next we are going to use a boxplot to see the relation between types of schools and the tuition fees they charge"
   ]
  },
  {
   "cell_type": "code",
   "execution_count": 133,
   "metadata": {},
   "outputs": [
    {
     "data": {
      "image/png": "[encoded data removed]",
      "text/plain": [
       "<Figure size 432x288 with 1 Axes>"
      ]
     },
     "metadata": {
      "needs_background": "light"
     },
     "output_type": "display_data"
    }
   ],
   "source": [
    "collegeDataClean['ADM_RATE_ALL'].fillna(0, inplace = True)\n",
    "lst = []\n",
    "\n",
    "for i in collegeDataClean['ADM_RATE_ALL']:\n",
    "    lst += [i]\n",
    "    \n",
    "    #print(lst) \n",
    "        \n",
    "\n",
    "sb.boxplot(data = collegeDataClean, x = 'CONTROL',y = lst)\n",
    "\n",
    "#plt.boxplot(lst, ['Public', 'Private Nonprofit', 'Private For-Profit'], vert = True)\n",
    "\n",
    "\n",
    "plt.title('Type of Institute and Admission Rates', fontsize = 14)\n",
    "plt.xlabel('Type of Institute', fontsize = 12)\n",
    "plt.ylabel('Admission Rates', fontsize = 12);"
   ]
  },
  {
   "cell_type": "markdown",
   "metadata": {},
   "source": [
    "From the above graph we can see that the data isnt mapped properly perhaps a different graph would be better suited here"
   ]
  },
  {
   "cell_type": "markdown",
   "metadata": {},
   "source": [
    "##### Q. In this part we will be using regression to see the prediction the model will make between the average Faculty salaries score and tuition fees"
   ]
  },
  {
   "cell_type": "code",
   "execution_count": 134,
   "metadata": {},
   "outputs": [
    {
     "data": {
      "image/png": "[encoded data removed]",
      "text/plain": [
       "<Figure size 432x288 with 1 Axes>"
      ]
     },
     "metadata": {
      "needs_background": "light"
     },
     "output_type": "display_data"
    }
   ],
   "source": [
    "collegeDataClean['AVGFACSAL'].fillna(0, inplace = True)\n",
    "\n",
    "\n",
    "temp=[]\n",
    "for value in collegeDataClean['AVGFACSAL']:\n",
    "    temp+=[value]\n",
    "    \n",
    "data = collegeDataClean  \n",
    "\n",
    "Y = pd.DataFrame(temp)\n",
    "X = pd.DataFrame(collegeDataClean['TUITFTE'])\n",
    "\n",
    "Regressor = LinearRegression() \n",
    "Regressor.fit(X, Y)  \n",
    "\n",
    "Y_pred = Regressor.predict(X)\n",
    "plt.title('', fontsize = 14)\n",
    "\n",
    "plt.xlabel('Tuition Fees', fontsize = 12)\n",
    "plt.ylabel('Faculty salaries', fontsize = 12)\n",
    "\n",
    "plt.scatter(X, Y)\n",
    "plt.plot(X, Y_pred, color='red')\n",
    "plt.show()"
   ]
  },
  {
   "cell_type": "markdown",
   "metadata": {},
   "source": [
    "From the above model we can see that the linear regression model predicts that as the tuition fees increases the average faculty salaries increase as well. However we can see from the density of the dots that this may not always be the case as the highest average faculty salary is in the ne of the lower costing schools, as far as tuition fees goes"
   ]
  },
  {
   "cell_type": "markdown",
   "metadata": {},
   "source": [
    "##### Q5. In this part we will be using the hypothesis testing between average faculty salaries and average SAT score"
   ]
  },
  {
   "cell_type": "code",
   "execution_count": 135,
   "metadata": {},
   "outputs": [
    {
     "name": "stdout",
     "output_type": "stream",
     "text": [
      "0.0\n",
      "reject null hypothesis\n"
     ]
    }
   ],
   "source": [
    "collegeDataClean[['AVGFACSAL','SAT_AVG']].describe()\n",
    "\n",
    "ttest,pval = stats.ttest_rel(collegeDataClean['AVGFACSAL'], collegeDataClean['SAT_AVG'])\n",
    "\n",
    "print(pval)\n",
    "\n",
    "if pval<0.05:\n",
    "\n",
    "    print(\"reject null hypothesis\")\n",
    "\n",
    "else:\n",
    "\n",
    "    print(\"accept null hypothesis\")"
   ]
  }
 ],
 "metadata": {
  "kernelspec": {
   "display_name": "Python 3",
   "language": "python",
   "name": "python3"
  },
  "language_info": {
   "codemirror_mode": {
    "name": "ipython",
    "version": 3
   },
   "file_extension": ".py",
   "mimetype": "text/x-python",
   "name": "python",
   "nbconvert_exporter": "python",
   "pygments_lexer": "ipython3",
   "version": "3.6.6"
  }
 },
 "nbformat": 4,
 "nbformat_minor": 2
}
